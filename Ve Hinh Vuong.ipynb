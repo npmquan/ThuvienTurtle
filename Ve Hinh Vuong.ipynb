{
 "cells": [
  {
   "cell_type": "code",
   "execution_count": null,
   "id": "54c706e9-185a-40b5-b1d4-e52b59e454a9",
   "metadata": {},
   "outputs": [],
   "source": [
    "import turtle\n",
    "t = turtle.Turtle()\n",
    "t.pencolor('blue')\n",
    "t.pensize(20)\n",
    "t.fillcolor('green')\n",
    "t.begin_fill()\n",
    "t.pencolor('yellow')\n",
    "t.forward(100)\n",
    "t.left(90)\n",
    "t.pencolor('pink')\n",
    "t.forward(100)\n",
    "t.left(90)\n",
    "t.pencolor('brown')\n",
    "t.forward(100)\n",
    "t.left(90)\n",
    "t.pencolor('orange')\n",
    "t.forward(100)\n",
    "t.end_fill()\n",
    "turtle.done()"
   ]
  },
  {
   "cell_type": "code",
   "execution_count": null,
   "id": "dbe6a47c-cdd6-4bdf-a702-3c8ace61af06",
   "metadata": {},
   "outputs": [],
   "source": []
  }
 ],
 "metadata": {
  "kernelspec": {
   "display_name": "Python 3 (ipykernel)",
   "language": "python",
   "name": "python3"
  },
  "language_info": {
   "codemirror_mode": {
    "name": "ipython",
    "version": 3
   },
   "file_extension": ".py",
   "mimetype": "text/x-python",
   "name": "python",
   "nbconvert_exporter": "python",
   "pygments_lexer": "ipython3",
   "version": "3.9.12"
  }
 },
 "nbformat": 4,
 "nbformat_minor": 5
}
